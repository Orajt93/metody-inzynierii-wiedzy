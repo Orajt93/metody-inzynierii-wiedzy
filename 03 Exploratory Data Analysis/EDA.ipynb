{
 "cells": [
  {
   "cell_type": "markdown",
   "metadata": {},
   "source": [
    "# Exploratory Data Analysis (EDA)\n",
    "\n",
    "Celem dzisiejszego ćwiczenia jest poznanie podstawowej metody zaznajamiania się z danymi i odpowiada na pytania:\n",
    "\n",
    "- Czy możemy używać algorytmy uczenia maszynowego na naszych danych?\n",
    "- Jakie są klasy i wartości w naszym zbiorze danych?\n",
    "- Jakie algorytmy wybrać do naszego zbioru danych?\n",
    "\n",
    "Odpowiedzi na te pytania dowiemy się poprzez scharakteryzowanie naszego zbioru i jego wizualizacje.\n",
    "\n",
    "### Po co właściwie nam EDA?\n",
    "\n",
    "Przede wszystkim, aby zrobić cokolwiek dobrego na danych, powinniśmy najpierw te dane poznać. W przeciwnym wypadku będziemy błądzić i popełniać błędy. Popełniając błędy w analizie biznesowej można doprowadzić firmę do niechcianych strat (a nawet upadku), gdy jej decyzje będą oparte na błędnych założeniach. EDA pozwala nam zdobyć pewien pogląd na dane, z którymi będziemy pracować. Końcowym efektem będzie pogląd na to, jak przeprowadzić proces uczenia maszynowego, aby dał dobre wyniki.\n",
    "\n",
    "Co może się stać gdy EDA nie zrobimy:\n",
    "\n",
    "- Stworzymy niedokładne modele,\n",
    "- Stworzymy dokładne modele, ale na złych danych,\n",
    "- Wybierzemy złe parametry do modelu,\n",
    "- Źle będziemy zarządzać naszymi zasobami.\n",
    "\n",
    "### Kroki EDA\n",
    "\n",
    "1. Pobieramy zbiór danych (pliki, bazy danych, etc.),\n",
    "2. Zapoznanie się z naszym zbiorem:\n",
    "   - Ilość danych,\n",
    "   - Jak wyglądają dane,\n",
    "   - Podgląd początkowych i końcowych wierszy.\n",
    "3. Głębsze zapoznanie się z danymi (wizualizacje, zapytania), \n",
    "4. Opisanie problemów z danymi:\n",
    "   - Brakujące dane,\n",
    "   - Wartości odstające,\n",
    "   - Duplikaty.\n",
    "5. Identyfikacja cech\n",
    "6. Szukanie wzorców w danych"
   ]
  },
  {
   "cell_type": "markdown",
   "metadata": {},
   "source": [
    "## Przykładowe EDA na danych COVID-19\n",
    "\n",
    "Zaczniemy od importu bibliotek, które będziemy używać. Jeżeli czegoś nie masz zainstalowanego na swoim komputerze, pamiętaj by użyć komendy `pip` lub `conda install` w przypadku gdy używasz dystrybucji Anaconda."
   ]
  },
  {
   "cell_type": "code",
   "execution_count": null,
   "metadata": {},
   "outputs": [],
   "source": [
    "import pandas as pd"
   ]
  },
  {
   "cell_type": "markdown",
   "metadata": {},
   "source": [
    "# Zadania\n",
    "\n",
    "1. Wejdź na stronę [Kaggle](https://www.kaggle.com/datasets) i wybierz dowolny ciekawy dla Ciebie dataset.\n",
    "2. Przeprowadź Exploratory Data Analysis na wybranych danych.\n",
    "3. Pamiętaj by zawrzeć wszystko czego się dzisiaj nauczyłeś.\n",
    "4. Zamieść wyniki w swoim repozytorium Github."
   ]
  },
  {
   "cell_type": "code",
   "execution_count": null,
   "metadata": {},
   "outputs": [],
   "source": []
  }
 ],
 "metadata": {
  "kernelspec": {
   "display_name": "Python 3.7.7 64-bit ('data-science': conda)",
   "language": "python",
   "name": "python37764bitdatascienceconda6539e6d3690444dbb250eb590302b267"
  },
  "language_info": {
   "codemirror_mode": {
    "name": "ipython",
    "version": 3
   },
   "file_extension": ".py",
   "mimetype": "text/x-python",
   "name": "python",
   "nbconvert_exporter": "python",
   "pygments_lexer": "ipython3",
   "version": "3.7.7"
  }
 },
 "nbformat": 4,
 "nbformat_minor": 4
}
